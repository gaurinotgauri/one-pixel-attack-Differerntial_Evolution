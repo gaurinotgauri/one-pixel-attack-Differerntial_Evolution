{
  "nbformat": 4,
  "nbformat_minor": 0,
  "metadata": {
    "colab": {
      "provenance": [],
      "authorship_tag": "ABX9TyNseuF7UjzvVsYQFGcIG8vj",
      "include_colab_link": true
    },
    "kernelspec": {
      "name": "python3",
      "display_name": "Python 3"
    },
    "language_info": {
      "name": "python"
    }
  },
  "cells": [
    {
      "cell_type": "markdown",
      "metadata": {
        "id": "view-in-github",
        "colab_type": "text"
      },
      "source": [
        "<a href=\"https://colab.research.google.com/github/gaurinotgauri/one-pixel-attack-Differerntial_Evolution/blob/master/one_pixel_attack_Differerntial_Evolution.ipynb\" target=\"_parent\"><img src=\"https://colab.research.google.com/assets/colab-badge.svg\" alt=\"Open In Colab\"/></a>"
      ]
    },
    {
      "cell_type": "code",
      "source": [
        "!pip install np_utils\n",
        "!pip uninstall scipy -y\n",
        "!pip install scipy --upgrade"
      ],
      "metadata": {
        "colab": {
          "base_uri": "https://localhost:8080/"
        },
        "id": "SKcbRq4tJ01c",
        "outputId": "4daa1126-d3ca-46a2-b230-fb08fa3407ef"
      },
      "execution_count": 1,
      "outputs": [
        {
          "output_type": "stream",
          "name": "stdout",
          "text": [
            "Collecting np_utils\n",
            "  Downloading np_utils-0.6.0.tar.gz (61 kB)\n",
            "\u001b[2K     \u001b[90m━━━━━━━━━━━━━━━━━━━━━━━━━━━━━━━━━━━━━━━━\u001b[0m \u001b[32m62.0/62.0 kB\u001b[0m \u001b[31m834.7 kB/s\u001b[0m eta \u001b[36m0:00:00\u001b[0m\n",
            "\u001b[?25h  Preparing metadata (setup.py) ... \u001b[?25l\u001b[?25hdone\n",
            "Requirement already satisfied: numpy>=1.0 in /usr/local/lib/python3.10/dist-packages (from np_utils) (1.25.2)\n",
            "Building wheels for collected packages: np_utils\n",
            "  Building wheel for np_utils (setup.py) ... \u001b[?25l\u001b[?25hdone\n",
            "  Created wheel for np_utils: filename=np_utils-0.6.0-py3-none-any.whl size=56441 sha256=c3822b4cf7ea275ae0cfba51afe7d10a365b822f8a66f94296b68741d1b61643\n",
            "  Stored in directory: /root/.cache/pip/wheels/b6/c7/50/2307607f44366dd021209f660045f8d51cb976514d30be7cc7\n",
            "Successfully built np_utils\n",
            "Installing collected packages: np_utils\n",
            "Successfully installed np_utils-0.6.0\n",
            "Found existing installation: scipy 1.11.4\n",
            "Uninstalling scipy-1.11.4:\n",
            "  Successfully uninstalled scipy-1.11.4\n",
            "Collecting scipy\n",
            "  Downloading scipy-1.14.0-cp310-cp310-manylinux_2_17_x86_64.manylinux2014_x86_64.whl (41.1 MB)\n",
            "\u001b[2K     \u001b[90m━━━━━━━━━━━━━━━━━━━━━━━━━━━━━━━━━━━━━━━━\u001b[0m \u001b[32m41.1/41.1 MB\u001b[0m \u001b[31m16.8 MB/s\u001b[0m eta \u001b[36m0:00:00\u001b[0m\n",
            "\u001b[?25hRequirement already satisfied: numpy<2.3,>=1.23.5 in /usr/local/lib/python3.10/dist-packages (from scipy) (1.25.2)\n",
            "Installing collected packages: scipy\n",
            "Successfully installed scipy-1.14.0\n"
          ]
        }
      ]
    },
    {
      "cell_type": "code",
      "source": [
        "%matplotlib inline\n",
        "import pickle\n",
        "import keras\n",
        "import numpy as np\n",
        "import pandas as pd\n",
        "import matplotlib\n",
        "from keras.datasets import cifar10\n",
        "from keras import backend as K"
      ],
      "metadata": {
        "id": "DM4EYXD8JxDE"
      },
      "execution_count": 2,
      "outputs": []
    },
    {
      "cell_type": "code",
      "source": [
        "!git clone https://github.com/gaurinotgauri/one-pixel-attack-keras"
      ],
      "metadata": {
        "colab": {
          "base_uri": "https://localhost:8080/"
        },
        "id": "PTHmPa-MZKY2",
        "outputId": "d0746822-4561-4079-9f70-129a0b14e29f"
      },
      "execution_count": 3,
      "outputs": [
        {
          "output_type": "stream",
          "name": "stdout",
          "text": [
            "Cloning into 'one-pixel-attack-keras'...\n",
            "remote: Enumerating objects: 415, done.\u001b[K\n",
            "remote: Counting objects: 100% (75/75), done.\u001b[K\n",
            "remote: Compressing objects: 100% (51/51), done.\u001b[K\n",
            "remote: Total 415 (delta 39), reused 50 (delta 24), pack-reused 340\u001b[K\n",
            "Receiving objects: 100% (415/415), 46.59 MiB | 29.04 MiB/s, done.\n",
            "Resolving deltas: 100% (237/237), done.\n"
          ]
        }
      ]
    },
    {
      "cell_type": "markdown",
      "source": [
        "Forked from github.com/sreedath/one-pixel-attack-keras"
      ],
      "metadata": {
        "id": "j9hUjMYQExD4"
      }
    },
    {
      "cell_type": "code",
      "source": [
        "import os\n",
        "os.chdir('/content/one-pixel-attack-keras')"
      ],
      "metadata": {
        "id": "LCUriyPLPi0t"
      },
      "execution_count": 4,
      "outputs": []
    },
    {
      "cell_type": "code",
      "source": [
        "#From repository\n",
        "from networks.lenet import LeNet\n",
        "from networks.pure_cnn import PureCnn\n",
        "from networks.network_in_network import NetworkInNetwork\n",
        "from networks.resnet import ResNet\n",
        "from networks.densenet import DenseNet\n",
        "from networks.wide_resnet import WideResNet\n",
        "from networks.capsnet import CapsNet\n",
        "\n",
        "from differential_evolution import differential_evolution\n",
        "import helper\n",
        "\n",
        "matplotlib.style.use('ggplot')\n",
        "np.random.seed(100)"
      ],
      "metadata": {
        "id": "8ZzoZv51IRnl"
      },
      "execution_count": 5,
      "outputs": []
    },
    {
      "cell_type": "code",
      "source": [
        "#loading CIFAR10 dataset with 10 distinct classes having 32 x 32 pixel images\n",
        "(x_train, y_train), (x_test, y_test) = cifar10.load_data()"
      ],
      "metadata": {
        "id": "Rdf_3br_QtjX",
        "colab": {
          "base_uri": "https://localhost:8080/"
        },
        "outputId": "5baf0e38-2031-4665-df8a-a240073373fd"
      },
      "execution_count": 6,
      "outputs": [
        {
          "output_type": "stream",
          "name": "stdout",
          "text": [
            "Downloading data from https://www.cs.toronto.edu/~kriz/cifar-10-python.tar.gz\n",
            "170498071/170498071 [==============================] - 2s 0us/step\n"
          ]
        }
      ]
    },
    {
      "cell_type": "code",
      "source": [
        "x_train.shape, x_test.shape"
      ],
      "metadata": {
        "colab": {
          "base_uri": "https://localhost:8080/"
        },
        "id": "SzGIwQSkFD9h",
        "outputId": "3d5515bd-767f-45d0-ae95-3309b32c47d2"
      },
      "execution_count": 7,
      "outputs": [
        {
          "output_type": "execute_result",
          "data": {
            "text/plain": [
              "((50000, 32, 32, 3), (10000, 32, 32, 3))"
            ]
          },
          "metadata": {},
          "execution_count": 7
        }
      ]
    },
    {
      "cell_type": "code",
      "source": [
        "class_names = ['airplane', 'automobile', 'bird', 'cat', 'deer', 'dog', 'frog', 'horse', 'ship', 'truck']"
      ],
      "metadata": {
        "id": "j8nvwpqNbJMh"
      },
      "execution_count": 8,
      "outputs": []
    },
    {
      "cell_type": "code",
      "source": [
        "#Example image from the dataset\n",
        "image_id = 561\n",
        "helper.plot_image(x_test[image_id])"
      ],
      "metadata": {
        "colab": {
          "base_uri": "https://localhost:8080/",
          "height": 406
        },
        "id": "WfKqh-qUFMUX",
        "outputId": "f284ce81-4913-4e3c-8620-f5b98df210fe"
      },
      "execution_count": 26,
      "outputs": [
        {
          "output_type": "display_data",
          "data": {
            "text/plain": [
              "<Figure size 640x480 with 1 Axes>"
            ],
            "image/png": "[encoded data removed]"
          },
          "metadata": {}
        }
      ]
    },
    {
      "cell_type": "code",
      "source": [
        "#Choosing model\n",
        "lenet = LeNet()\n",
        "resnet = ResNet()\n",
        "models = [lenet, resnet]\n",
        "network_stats, correct_imgs = helper.evaluate_models(models, x_test, y_test)\n",
        "correct_imgs = pd.DataFrame(correct_imgs, columns=['name', 'img', 'label', 'confidence', 'pred'])\n",
        "network_stats = pd.DataFrame(network_stats, columns=['name', 'accuracy', 'param_count'])\n",
        "network_stats"
      ],
      "metadata": {
        "colab": {
          "base_uri": "https://localhost:8080/",
          "height": 229
        },
        "id": "tiXACgM3FVoF",
        "outputId": "5a6d909e-b681-4380-f2cb-9d4722559951"
      },
      "execution_count": 29,
      "outputs": [
        {
          "output_type": "stream",
          "name": "stdout",
          "text": [
            "Successfully loaded lenet\n",
            "Successfully loaded resnet\n",
            "Evaluating lenet\n",
            "79/79 [==============================] - 2s 22ms/step\n",
            "Evaluating resnet\n",
            "79/79 [==============================] - 44s 550ms/step\n"
          ]
        },
        {
          "output_type": "execute_result",
          "data": {
            "text/plain": [
              "     name  accuracy  param_count\n",
              "0   lenet    0.7488        62006\n",
              "1  resnet    0.9231       470218"
            ],
            "text/html": [
              "\n",
              "  <div id=\"df-bd1ec4a6-a67b-4214-8d50-bc40007b9e47\" class=\"colab-df-container\">\n",
              "    <div>\n",
              "<style scoped>\n",
              "    .dataframe tbody tr th:only-of-type {\n",
              "        vertical-align: middle;\n",
              "    }\n",
              "\n",
              "    .dataframe tbody tr th {\n",
              "        vertical-align: top;\n",
              "    }\n",
              "\n",
              "    .dataframe thead th {\n",
              "        text-align: right;\n",
              "    }\n",
              "</style>\n",
              "<table border=\"1\" class=\"dataframe\">\n",
              "  <thead>\n",
              "    <tr style=\"text-align: right;\">\n",
              "      <th></th>\n",
              "      <th>name</th>\n",
              "      <th>accuracy</th>\n",
              "      <th>param_count</th>\n",
              "    </tr>\n",
              "  </thead>\n",
              "  <tbody>\n",
              "    <tr>\n",
              "      <th>0</th>\n",
              "      <td>lenet</td>\n",
              "      <td>0.7488</td>\n",
              "      <td>62006</td>\n",
              "    </tr>\n",
              "    <tr>\n",
              "      <th>1</th>\n",
              "      <td>resnet</td>\n",
              "      <td>0.9231</td>\n",
              "      <td>470218</td>\n",
              "    </tr>\n",
              "  </tbody>\n",
              "</table>\n",
              "</div>\n",
              "    <div class=\"colab-df-buttons\">\n",
              "\n",
              "  <div class=\"colab-df-container\">\n",
              "    <button class=\"colab-df-convert\" onclick=\"convertToInteractive('df-bd1ec4a6-a67b-4214-8d50-bc40007b9e47')\"\n",
              "            title=\"Convert this dataframe to an interactive table.\"\n",
              "            style=\"display:none;\">\n",
              "\n",
              "  <svg xmlns=\"http://www.w3.org/2000/svg\" height=\"24px\" viewBox=\"0 -960 960 960\">\n",
              "    <path d=\"M120-120v-720h720v720H120Zm60-500h600v-160H180v160Zm220 220h160v-160H400v160Zm0 220h160v-160H400v160ZM180-400h160v-160H180v160Zm440 0h160v-160H620v160ZM180-180h160v-160H180v160Zm440 0h160v-160H620v160Z\"/>\n",
              "  </svg>\n",
              "    </button>\n",
              "\n",
              "  <style>\n",
              "    .colab-df-container {\n",
              "      display:flex;\n",
              "      gap: 12px;\n",
              "    }\n",
              "\n",
              "    .colab-df-convert {\n",
              "      background-color: #E8F0FE;\n",
              "      border: none;\n",
              "      border-radius: 50%;\n",
              "      cursor: pointer;\n",
              "      display: none;\n",
              "      fill: #1967D2;\n",
              "      height: 32px;\n",
              "      padding: 0 0 0 0;\n",
              "      width: 32px;\n",
              "    }\n",
              "\n",
              "    .colab-df-convert:hover {\n",
              "      background-color: #E2EBFA;\n",
              "      box-shadow: 0px 1px 2px rgba(60, 64, 67, 0.3), 0px 1px 3px 1px rgba(60, 64, 67, 0.15);\n",
              "      fill: #174EA6;\n",
              "    }\n",
              "\n",
              "    .colab-df-buttons div {\n",
              "      margin-bottom: 4px;\n",
              "    }\n",
              "\n",
              "    [theme=dark] .colab-df-convert {\n",
              "      background-color: #3B4455;\n",
              "      fill: #D2E3FC;\n",
              "    }\n",
              "\n",
              "    [theme=dark] .colab-df-convert:hover {\n",
              "      background-color: #434B5C;\n",
              "      box-shadow: 0px 1px 3px 1px rgba(0, 0, 0, 0.15);\n",
              "      filter: drop-shadow(0px 1px 2px rgba(0, 0, 0, 0.3));\n",
              "      fill: #FFFFFF;\n",
              "    }\n",
              "  </style>\n",
              "\n",
              "    <script>\n",
              "      const buttonEl =\n",
              "        document.querySelector('#df-bd1ec4a6-a67b-4214-8d50-bc40007b9e47 button.colab-df-convert');\n",
              "      buttonEl.style.display =\n",
              "        google.colab.kernel.accessAllowed ? 'block' : 'none';\n",
              "\n",
              "      async function convertToInteractive(key) {\n",
              "        const element = document.querySelector('#df-bd1ec4a6-a67b-4214-8d50-bc40007b9e47');\n",
              "        const dataTable =\n",
              "          await google.colab.kernel.invokeFunction('convertToInteractive',\n",
              "                                                    [key], {});\n",
              "        if (!dataTable) return;\n",
              "\n",
              "        const docLinkHtml = 'Like what you see? Visit the ' +\n",
              "          '<a target=\"_blank\" href=https://colab.research.google.com/notebooks/data_table.ipynb>data table notebook</a>'\n",
              "          + ' to learn more about interactive tables.';\n",
              "        element.innerHTML = '';\n",
              "        dataTable['output_type'] = 'display_data';\n",
              "        await google.colab.output.renderOutput(dataTable, element);\n",
              "        const docLink = document.createElement('div');\n",
              "        docLink.innerHTML = docLinkHtml;\n",
              "        element.appendChild(docLink);\n",
              "      }\n",
              "    </script>\n",
              "  </div>\n",
              "\n",
              "\n",
              "<div id=\"df-60c2d00f-4fd4-4ead-b15f-ed05dc30d9de\">\n",
              "  <button class=\"colab-df-quickchart\" onclick=\"quickchart('df-60c2d00f-4fd4-4ead-b15f-ed05dc30d9de')\"\n",
              "            title=\"Suggest charts\"\n",
              "            style=\"display:none;\">\n",
              "\n",
              "<svg xmlns=\"http://www.w3.org/2000/svg\" height=\"24px\"viewBox=\"0 0 24 24\"\n",
              "     width=\"24px\">\n",
              "    <g>\n",
              "        <path d=\"M19 3H5c-1.1 0-2 .9-2 2v14c0 1.1.9 2 2 2h14c1.1 0 2-.9 2-2V5c0-1.1-.9-2-2-2zM9 17H7v-7h2v7zm4 0h-2V7h2v10zm4 0h-2v-4h2v4z\"/>\n",
              "    </g>\n",
              "</svg>\n",
              "  </button>\n",
              "\n",
              "<style>\n",
              "  .colab-df-quickchart {\n",
              "      --bg-color: #E8F0FE;\n",
              "      --fill-color: #1967D2;\n",
              "      --hover-bg-color: #E2EBFA;\n",
              "      --hover-fill-color: #174EA6;\n",
              "      --disabled-fill-color: #AAA;\n",
              "      --disabled-bg-color: #DDD;\n",
              "  }\n",
              "\n",
              "  [theme=dark] .colab-df-quickchart {\n",
              "      --bg-color: #3B4455;\n",
              "      --fill-color: #D2E3FC;\n",
              "      --hover-bg-color: #434B5C;\n",
              "      --hover-fill-color: #FFFFFF;\n",
              "      --disabled-bg-color: #3B4455;\n",
              "      --disabled-fill-color: #666;\n",
              "  }\n",
              "\n",
              "  .colab-df-quickchart {\n",
              "    background-color: var(--bg-color);\n",
              "    border: none;\n",
              "    border-radius: 50%;\n",
              "    cursor: pointer;\n",
              "    display: none;\n",
              "    fill: var(--fill-color);\n",
              "    height: 32px;\n",
              "    padding: 0;\n",
              "    width: 32px;\n",
              "  }\n",
              "\n",
              "  .colab-df-quickchart:hover {\n",
              "    background-color: var(--hover-bg-color);\n",
              "    box-shadow: 0 1px 2px rgba(60, 64, 67, 0.3), 0 1px 3px 1px rgba(60, 64, 67, 0.15);\n",
              "    fill: var(--button-hover-fill-color);\n",
              "  }\n",
              "\n",
              "  .colab-df-quickchart-complete:disabled,\n",
              "  .colab-df-quickchart-complete:disabled:hover {\n",
              "    background-color: var(--disabled-bg-color);\n",
              "    fill: var(--disabled-fill-color);\n",
              "    box-shadow: none;\n",
              "  }\n",
              "\n",
              "  .colab-df-spinner {\n",
              "    border: 2px solid var(--fill-color);\n",
              "    border-color: transparent;\n",
              "    border-bottom-color: var(--fill-color);\n",
              "    animation:\n",
              "      spin 1s steps(1) infinite;\n",
              "  }\n",
              "\n",
              "  @keyframes spin {\n",
              "    0% {\n",
              "      border-color: transparent;\n",
              "      border-bottom-color: var(--fill-color);\n",
              "      border-left-color: var(--fill-color);\n",
              "    }\n",
              "    20% {\n",
              "      border-color: transparent;\n",
              "      border-left-color: var(--fill-color);\n",
              "      border-top-color: var(--fill-color);\n",
              "    }\n",
              "    30% {\n",
              "      border-color: transparent;\n",
              "      border-left-color: var(--fill-color);\n",
              "      border-top-color: var(--fill-color);\n",
              "      border-right-color: var(--fill-color);\n",
              "    }\n",
              "    40% {\n",
              "      border-color: transparent;\n",
              "      border-right-color: var(--fill-color);\n",
              "      border-top-color: var(--fill-color);\n",
              "    }\n",
              "    60% {\n",
              "      border-color: transparent;\n",
              "      border-right-color: var(--fill-color);\n",
              "    }\n",
              "    80% {\n",
              "      border-color: transparent;\n",
              "      border-right-color: var(--fill-color);\n",
              "      border-bottom-color: var(--fill-color);\n",
              "    }\n",
              "    90% {\n",
              "      border-color: transparent;\n",
              "      border-bottom-color: var(--fill-color);\n",
              "    }\n",
              "  }\n",
              "</style>\n",
              "\n",
              "  <script>\n",
              "    async function quickchart(key) {\n",
              "      const quickchartButtonEl =\n",
              "        document.querySelector('#' + key + ' button');\n",
              "      quickchartButtonEl.disabled = true;  // To prevent multiple clicks.\n",
              "      quickchartButtonEl.classList.add('colab-df-spinner');\n",
              "      try {\n",
              "        const charts = await google.colab.kernel.invokeFunction(\n",
              "            'suggestCharts', [key], {});\n",
              "      } catch (error) {\n",
              "        console.error('Error during call to suggestCharts:', error);\n",
              "      }\n",
              "      quickchartButtonEl.classList.remove('colab-df-spinner');\n",
              "      quickchartButtonEl.classList.add('colab-df-quickchart-complete');\n",
              "    }\n",
              "    (() => {\n",
              "      let quickchartButtonEl =\n",
              "        document.querySelector('#df-60c2d00f-4fd4-4ead-b15f-ed05dc30d9de button');\n",
              "      quickchartButtonEl.style.display =\n",
              "        google.colab.kernel.accessAllowed ? 'block' : 'none';\n",
              "    })();\n",
              "  </script>\n",
              "</div>\n",
              "\n",
              "  <div id=\"id_9c0f5a28-79b5-40e3-944b-175b7b2c105b\">\n",
              "    <style>\n",
              "      .colab-df-generate {\n",
              "        background-color: #E8F0FE;\n",
              "        border: none;\n",
              "        border-radius: 50%;\n",
              "        cursor: pointer;\n",
              "        display: none;\n",
              "        fill: #1967D2;\n",
              "        height: 32px;\n",
              "        padding: 0 0 0 0;\n",
              "        width: 32px;\n",
              "      }\n",
              "\n",
              "      .colab-df-generate:hover {\n",
              "        background-color: #E2EBFA;\n",
              "        box-shadow: 0px 1px 2px rgba(60, 64, 67, 0.3), 0px 1px 3px 1px rgba(60, 64, 67, 0.15);\n",
              "        fill: #174EA6;\n",
              "      }\n",
              "\n",
              "      [theme=dark] .colab-df-generate {\n",
              "        background-color: #3B4455;\n",
              "        fill: #D2E3FC;\n",
              "      }\n",
              "\n",
              "      [theme=dark] .colab-df-generate:hover {\n",
              "        background-color: #434B5C;\n",
              "        box-shadow: 0px 1px 3px 1px rgba(0, 0, 0, 0.15);\n",
              "        filter: drop-shadow(0px 1px 2px rgba(0, 0, 0, 0.3));\n",
              "        fill: #FFFFFF;\n",
              "      }\n",
              "    </style>\n",
              "    <button class=\"colab-df-generate\" onclick=\"generateWithVariable('network_stats')\"\n",
              "            title=\"Generate code using this dataframe.\"\n",
              "            style=\"display:none;\">\n",
              "\n",
              "  <svg xmlns=\"http://www.w3.org/2000/svg\" height=\"24px\"viewBox=\"0 0 24 24\"\n",
              "       width=\"24px\">\n",
              "    <path d=\"M7,19H8.4L18.45,9,17,7.55,7,17.6ZM5,21V16.75L18.45,3.32a2,2,0,0,1,2.83,0l1.4,1.43a1.91,1.91,0,0,1,.58,1.4,1.91,1.91,0,0,1-.58,1.4L9.25,21ZM18.45,9,17,7.55Zm-12,3A5.31,5.31,0,0,0,4.9,8.1,5.31,5.31,0,0,0,1,6.5,5.31,5.31,0,0,0,4.9,4.9,5.31,5.31,0,0,0,6.5,1,5.31,5.31,0,0,0,8.1,4.9,5.31,5.31,0,0,0,12,6.5,5.46,5.46,0,0,0,6.5,12Z\"/>\n",
              "  </svg>\n",
              "    </button>\n",
              "    <script>\n",
              "      (() => {\n",
              "      const buttonEl =\n",
              "        document.querySelector('#id_9c0f5a28-79b5-40e3-944b-175b7b2c105b button.colab-df-generate');\n",
              "      buttonEl.style.display =\n",
              "        google.colab.kernel.accessAllowed ? 'block' : 'none';\n",
              "\n",
              "      buttonEl.onclick = () => {\n",
              "        google.colab.notebook.generateWithVariable('network_stats');\n",
              "      }\n",
              "      })();\n",
              "    </script>\n",
              "  </div>\n",
              "\n",
              "    </div>\n",
              "  </div>\n"
            ],
            "application/vnd.google.colaboratory.intrinsic+json": {
              "type": "dataframe",
              "variable_name": "network_stats",
              "summary": "{\n  \"name\": \"network_stats\",\n  \"rows\": 2,\n  \"fields\": [\n    {\n      \"column\": \"name\",\n      \"properties\": {\n        \"dtype\": \"string\",\n        \"num_unique_values\": 2,\n        \"samples\": [\n          \"resnet\",\n          \"lenet\"\n        ],\n        \"semantic_type\": \"\",\n        \"description\": \"\"\n      }\n    },\n    {\n      \"column\": \"accuracy\",\n      \"properties\": {\n        \"dtype\": \"number\",\n        \"std\": 0.12324871196081524,\n        \"min\": 0.7488,\n        \"max\": 0.9231,\n        \"num_unique_values\": 2,\n        \"samples\": [\n          0.9231,\n          0.7488\n        ],\n        \"semantic_type\": \"\",\n        \"description\": \"\"\n      }\n    },\n    {\n      \"column\": \"param_count\",\n      \"properties\": {\n        \"dtype\": \"number\",\n        \"std\": 288649,\n        \"min\": 62006,\n        \"max\": 470218,\n        \"num_unique_values\": 2,\n        \"samples\": [\n          470218,\n          62006\n        ],\n        \"semantic_type\": \"\",\n        \"description\": \"\"\n      }\n    }\n  ]\n}"
            }
          },
          "metadata": {},
          "execution_count": 29
        }
      ]
    },
    {
      "cell_type": "code",
      "source": [
        "#Perturbation function\n",
        "def perturb_image(xs, img):\n",
        "\n",
        "    if xs.ndim < 2:\n",
        "        xs = np.array([xs])\n",
        "\n",
        "    tile = [len(xs)] + [1]*(xs.ndim+1)\n",
        "    imgs = np.tile(img, tile)\n",
        "\n",
        "    xs = xs.astype(int)\n",
        "\n",
        "    for x,img in zip(xs, imgs):\n",
        "        pixels = np.split(x, len(x) // 5)\n",
        "        for pixel in pixels:\n",
        "            x_pos, y_pos, *rgb = pixel\n",
        "            img[x_pos, y_pos] = rgb\n",
        "\n",
        "    return imgs"
      ],
      "metadata": {
        "id": "wJdWbTimGfUr"
      },
      "execution_count": 31,
      "outputs": []
    },
    {
      "cell_type": "code",
      "source": [
        "#Perturbed image\n",
        "pixel = np.array([16, 16, 255, 255, 0])\n",
        "image_perturbed = perturb_image(pixel, x_test[image_id])[0]\n",
        "helper.plot_image(image_perturbed)"
      ],
      "metadata": {
        "colab": {
          "base_uri": "https://localhost:8080/",
          "height": 406
        },
        "id": "Ot61C-ByHj_H",
        "outputId": "210a6b99-d232-4298-9104-4958710b53d1"
      },
      "execution_count": 33,
      "outputs": [
        {
          "output_type": "display_data",
          "data": {
            "text/plain": [
              "<Figure size 640x480 with 1 Axes>"
            ],
            "image/png": "[encoded data removed]"
          },
          "metadata": {}
        }
      ]
    },
    {
      "cell_type": "code",
      "source": [
        "def predict_classes(xs, img, target_class, model, minimize=True):\n",
        "    # Perturb the image with the given pixel(s) x and get the prediction of the model\n",
        "    imgs_perturbed = perturb_image(xs, img)\n",
        "    predictions = model.predict(imgs_perturbed)[:,target_class]\n",
        "    # This function should always be minimized, so return its complement if needed\n",
        "    return predictions if minimize else 1 - predictions"
      ],
      "metadata": {
        "id": "o9H-XnS8ISCr"
      },
      "execution_count": 34,
      "outputs": []
    },
    {
      "cell_type": "code",
      "source": [
        "#Checking confidence loss for an image manualy perturbing with 1 pixel\n",
        "image_id = 4500\n",
        "pixel = np.array([17, 15,  25, 48, 156])\n",
        "model = resnet\n",
        "\n",
        "# Prediction for original image\n",
        "true_class = y_test[image_id, 0]\n",
        "prior_confidence = model.predict_one(x_test[image_id])[true_class]\n",
        "confidence = predict_classes(pixel, x_test[image_id], true_class, model)[0]\n",
        "\n",
        "# Prediction for perturbed image\n",
        "image_perturbed = perturb_image(pixel, x_test[image_id])[0]\n",
        "predicted_probs = model.predict_one(image_perturbed)\n",
        "new_class = np.argmax(predicted_probs)\n",
        "new_class_confidence = predicted_probs[new_class]\n",
        "\n",
        "print('Original confidence was', prior_confidence * 100, '% that it is a', class_names[true_class])\n",
        "print('Confidence after perturbation is', confidence * 100, '% that it is a', class_names[true_class])\n",
        "\n",
        "helper.plot_image(image_perturbed)  # Plot the perturbed image\n"
      ],
      "metadata": {
        "colab": {
          "base_uri": "https://localhost:8080/",
          "height": 493
        },
        "id": "Y5JPUAs6Iq4v",
        "outputId": "30fc22a1-afff-4b12-f825-13b78303be70"
      },
      "execution_count": 39,
      "outputs": [
        {
          "output_type": "stream",
          "name": "stdout",
          "text": [
            "1/1 [==============================] - 0s 28ms/step\n",
            "1/1 [==============================] - 0s 27ms/step\n",
            "1/1 [==============================] - 0s 27ms/step\n",
            "Original confidence was 99.99233484268188 % that it is a cat\n",
            "Confidence after perturbation is 93.71358752250671 % that it is a cat\n"
          ]
        },
        {
          "output_type": "display_data",
          "data": {
            "text/plain": [
              "<Figure size 640x480 with 1 Axes>"
            ],
            "image/png": "[encoded data removed]"
          },
          "metadata": {}
        }
      ]
    },
    {
      "cell_type": "code",
      "source": [
        "#Differential Evolution to find the best positon for perturbation to decrease the confidence\n",
        "\n",
        "def attack_success(x, img, target_class, model, targeted_attack=False, verbose=False):\n",
        "    # Perturb the image with the given pixel(s) and get the prediction of the model\n",
        "    attack_image = perturb_image(x, img)\n",
        "\n",
        "    confidence = model.predict(attack_image)[0]\n",
        "    predicted_class = np.argmax(confidence)\n",
        "\n",
        "    print()\n",
        "    # If the prediction is what we want (misclassification or targeted classification), return True\n",
        "    if verbose:\n",
        "        print('Confidence:', confidence[target_class])\n",
        "    if ((targeted_attack and predicted_class == target_class) or\n",
        "        (not targeted_attack and predicted_class != target_class)):\n",
        "        return True\n",
        "\n",
        "def attack(img_id, model, target=None, pixel_count=1,\n",
        "           maxiter=75, popsize=400, verbose=False):\n",
        "    # Change the target class based on whether this is a targeted attack or not\n",
        "    targeted_attack = target is not None\n",
        "    target_class = target if targeted_attack else y_test[img_id, 0]\n",
        "\n",
        "    # Define bounds for a flat vector of x,y,r,g,b values\n",
        "    bounds = [(0,32), (0,32), (0,256), (0,256), (0,256)] * pixel_count\n",
        "\n",
        "    # Population multiplier, in terms of the size of the perturbation vector x\n",
        "    popmul = max(1, popsize // len(bounds))\n",
        "\n",
        "    # Format the predict/callback functions for the differential evolution algorithm\n",
        "    def predict_fn(xs):\n",
        "        return predict_classes(xs, x_test[img_id], target_class,\n",
        "                               model, target is None)\n",
        "\n",
        "    def callback_fn(x, convergence):\n",
        "        return attack_success(x, x_test[img_id], target_class,\n",
        "                              model, targeted_attack, verbose)\n",
        "\n",
        "    # Call Scipy's Implementation of Differential Evolution\n",
        "    attack_result = differential_evolution(\n",
        "        predict_fn, bounds, maxiter=maxiter, popsize=popmul,\n",
        "        recombination=1, atol=-1, callback=callback_fn, polish=False)\n",
        "\n",
        "    # Calculate some useful statistics to return from this function\n",
        "    attack_image = perturb_image(attack_result.x, x_test[img_id])[0]\n",
        "    prior_probs = model.predict_one(x_test[img_id])\n",
        "    predicted_probs = model.predict_one(attack_image)\n",
        "    predicted_class = np.argmax(predicted_probs)\n",
        "    actual_class = y_test[img_id, 0]\n",
        "    success = predicted_class != actual_class\n",
        "    cdiff = prior_probs[actual_class] - predicted_probs[actual_class]\n",
        "\n",
        "    # Show the best attempt at a solution (successful or not)\n",
        "    helper.plot_image(attack_image, actual_class, class_names, predicted_class)\n",
        "\n",
        "    return [model.name, pixel_count, img_id, actual_class, predicted_class, success, cdiff, prior_probs, predicted_probs, attack_result.x]"
      ],
      "metadata": {
        "id": "wDkvGLWOK3ss"
      },
      "execution_count": 41,
      "outputs": []
    },
    {
      "cell_type": "code",
      "source": [
        "#Testing on an image\n",
        "image_id = 8600\n",
        "pixels = 1 # Number of pixels to attack\n",
        "model = resnet\n",
        "true_class = y_test[image_id, 0]\n",
        "prior_confidence = model.predict_one(x_test[image_id])[true_class]\n",
        "print('Original confidence was', prior_confidence*100,'% that it is a',class_names[true_class])\n",
        "_ = attack(image_id, model, pixel_count=pixels, verbose=True)\n"
      ],
      "metadata": {
        "colab": {
          "base_uri": "https://localhost:8080/",
          "height": 884
        },
        "id": "8nacrIlYLt1d",
        "outputId": "e172002c-67ad-4ae3-eb98-1e804a530f90"
      },
      "execution_count": 48,
      "outputs": [
        {
          "output_type": "stream",
          "name": "stdout",
          "text": [
            "1/1 [==============================] - 0s 40ms/step\n",
            "Original confidence was 99.98511075973511 % that it is a cat\n",
            "4/4 [==============================] - 3s 581ms/step\n",
            "4/4 [==============================] - 1s 330ms/step\n",
            "1/1 [==============================] - 0s 27ms/step\n",
            "\n",
            "Confidence: 0.59906137\n",
            "4/4 [==============================] - 1s 326ms/step\n",
            "1/1 [==============================] - 0s 27ms/step\n",
            "\n",
            "Confidence: 0.59906137\n",
            "4/4 [==============================] - 1s 327ms/step\n",
            "1/1 [==============================] - 0s 26ms/step\n",
            "\n",
            "Confidence: 0.59906137\n",
            "4/4 [==============================] - 2s 579ms/step\n",
            "1/1 [==============================] - 0s 43ms/step\n",
            "\n",
            "Confidence: 0.59906137\n",
            "4/4 [==============================] - 2s 326ms/step\n",
            "1/1 [==============================] - 0s 28ms/step\n",
            "\n",
            "Confidence: 0.4866655\n",
            "1/1 [==============================] - 0s 44ms/step\n",
            "1/1 [==============================] - 0s 27ms/step\n"
          ]
        },
        {
          "output_type": "display_data",
          "data": {
            "text/plain": [
              "<Figure size 640x480 with 1 Axes>"
            ],
            "image/png": "[encoded data removed]"
          },
          "metadata": {}
        }
      ]
    },
    {
      "cell_type": "code",
      "source": [],
      "metadata": {
        "id": "TqgbATm4L_hu"
      },
      "execution_count": 45,
      "outputs": []
    }
  ]
}